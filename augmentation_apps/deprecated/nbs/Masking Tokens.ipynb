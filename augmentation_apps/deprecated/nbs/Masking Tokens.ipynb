{
 "cells": [
  {
   "cell_type": "code",
   "execution_count": 1,
   "metadata": {},
   "outputs": [],
   "source": [
    "from transformers import BertTokenizer\n",
    "import random"
   ]
  },
  {
   "cell_type": "code",
   "execution_count": 2,
   "metadata": {},
   "outputs": [],
   "source": [
    "def random_word(tokens, tokenizer):\n",
    "    \"\"\"\n",
    "    Function:\n",
    "        Masking some random tokens for Language Model task with probabilities as in the original BERT paper.\n",
    "        For every word, generate a random probability. If it is <15%, then in that 15%, 80% should be replaced \n",
    "        with [MASK], 10% should be replaced with random word and other 10% to be the actual word.\n",
    "    Input:    \n",
    "        param tokens: list of str, tokenized sentence.\n",
    "        param tokenizer: Tokenizer, object used for tokenization (we need it's vocab here)\n",
    "    Output:\n",
    "        return: (list of str, list of int), masked tokens and related labels for LM prediction\n",
    "    \"\"\"\n",
    "    output_label = []\n",
    "\n",
    "    for i, token in enumerate(tokens):\n",
    "        prob = random.random()\n",
    "        # mask token with 15% probability\n",
    "        if prob < 0.15:\n",
    "            prob /= 0.15\n",
    "\n",
    "            # 80% randomly change token to mask token\n",
    "            if prob < 0.8:\n",
    "                tokens[i] = \"[MASK]\"\n",
    "\n",
    "            # 10% randomly change token to random token\n",
    "            elif prob < 0.9:\n",
    "                tokens[i] = random.choice(list(tokenizer.vocab.items()))[0]\n",
    "\n",
    "            # -> rest 10% randomly keep current token\n",
    "\n",
    "            # append current token to output (we will predict these later)\n",
    "            try:\n",
    "                output_label.append(tokenizer.vocab[token])\n",
    "            except KeyError:\n",
    "                # For unknown words (should not occur with BPE vocab)\n",
    "                output_label.append(tokenizer.vocab[\"[UNK]\"])\n",
    "                print(\"Cannot find token '{}' in vocab. Using [UNK] insetad\".format(token))\n",
    "        else:\n",
    "            # no masking token (will be ignored by loss function later)\n",
    "            output_label.append(-1)\n",
    "\n",
    "    return tokens, output_label\n",
    "\n"
   ]
  },
  {
   "cell_type": "code",
   "execution_count": 3,
   "metadata": {},
   "outputs": [],
   "source": [
    "tokenizer = BertTokenizer.from_pretrained('bert-base-uncased')"
   ]
  },
  {
   "cell_type": "code",
   "execution_count": 4,
   "metadata": {},
   "outputs": [
    {
     "name": "stdout",
     "output_type": "stream",
     "text": [
      "['hello', ',', 'i', 'am', 'a', 'achievement', 'guy', 'but', 'i', 'hate', 'it']\n",
      "Cannot find token 'Hello' in vocab. Using [UNK] insetad\n"
     ]
    },
    {
     "data": {
      "text/plain": [
       "(['[MASK]', 'I', 'am', 'a', 'great', 'guy', 'but', 'I', 'hate', '[MASK]'],\n",
       " [100, -1, -1, -1, -1, -1, -1, -1, -1, 2009])"
      ]
     },
     "execution_count": 4,
     "metadata": {},
     "output_type": "execute_result"
    }
   ],
   "source": [
    "print(tokenizer.tokenize('Hello, I am a achievement guy but I hate it'))\n",
    "random_word(['Hello','I','am','a','great','guy','but','I','hate','it'], tokenizer)"
   ]
  },
  {
   "cell_type": "code",
   "execution_count": 5,
   "metadata": {},
   "outputs": [],
   "source": [
    "# Next Step: Check how to make it work for BPE."
   ]
  },
  {
   "cell_type": "code",
   "execution_count": null,
   "metadata": {},
   "outputs": [],
   "source": []
  }
 ],
 "metadata": {
  "kernelspec": {
   "display_name": "Python [conda env:root] *",
   "language": "python",
   "name": "conda-root-py"
  },
  "language_info": {
   "codemirror_mode": {
    "name": "ipython",
    "version": 3
   },
   "file_extension": ".py",
   "mimetype": "text/x-python",
   "name": "python",
   "nbconvert_exporter": "python",
   "pygments_lexer": "ipython3",
   "version": "3.7.6"
  }
 },
 "nbformat": 4,
 "nbformat_minor": 4
}
